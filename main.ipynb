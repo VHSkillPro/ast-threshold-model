{
 "cells": [
  {
   "cell_type": "code",
   "execution_count": 3,
   "metadata": {},
   "outputs": [],
   "source": [
    "%load_ext autoreload\n",
    "%autoreload 2\n",
    "\n",
    "import cv2, os\n",
    "import numpy as np"
   ]
  },
  {
   "cell_type": "code",
   "execution_count": 4,
   "metadata": {},
   "outputs": [],
   "source": [
    "from sklearn.model_selection import train_test_split\n",
    "\n",
    "images_path = os.path.join(os.getcwd(), 'dataset/ImageSets')\n",
    "annotations_path = os.path.join(os.getcwd(), 'dataset/SegmentationClass')\n",
    "\n",
    "images_name = os.listdir(images_path)\n",
    "annotations_name = os.listdir(annotations_path)\n",
    "\n",
    "images_name_train, images_name_test, annotations_name_train, annotations_name_test = train_test_split(images_name, annotations_name, train_size=0.8, random_state=42)"
   ]
  },
  {
   "cell_type": "code",
   "execution_count": 14,
   "metadata": {},
   "outputs": [
    {
     "name": "stdout",
     "output_type": "stream",
     "text": [
      "DiaChua [57.2335197  61.67441013 66.18749084] [118.90048045 128.74450919 137.78265984]\n",
      "VungVoKhuan [48.34056936 52.64918932 55.3087704 ] [ 96.11223766 102.12618195 107.56167849]\n",
      "GiayKhangSinh [ 91.67859192  96.99402845 102.36017202] [220.62185685 226.39482088 233.83463581]\n"
     ]
    }
   ],
   "source": [
    "from ThresholdModel import ThresholdModel\n",
    "\n",
    "model = ThresholdModel(images_path, annotations_path)\n",
    "model.add_label('DiaChua', [255, 221, 51])\n",
    "model.add_label('VungVoKhuan', [102, 255, 102])\n",
    "model.add_label('GiayKhangSinh', [240, 120, 240])\n",
    "\n",
    "model.fit(images_name_train, annotations_name_train)"
   ]
  },
  {
   "cell_type": "code",
   "execution_count": 24,
   "metadata": {},
   "outputs": [
    {
     "name": "stdout",
     "output_type": "stream",
     "text": [
      "879_IMG_20180911_195128.jpg 0.3425 0.2056 0.0041\n",
      "873_IMG_20180911_194441.jpg 0.4438 0.6474 0.1110\n",
      "870_IMG_20180911_194225.jpg 0.5911 0.5175 0.1027\n",
      "880_IMG_20180911_195205.jpg 0.3418 0.4132 0.0350\n",
      "868_IMG_20180911_194036.jpg 0.2485 0.7883 0.0583\n",
      "nadia_box5_75c28c60-77e5-4236-9a1a-828f506caf17.jpg 0.7121 0.2052 0.0460\n",
      "877_IMG_20180911_194847.jpg 0.3493 0.4473 0.0209\n",
      "hadeel_box6_3620256a-d309-44ad-9dd7-f649ecf9a82b.jpg 0.1338 0.3473 0.0097\n",
      "882_IMG_20180911_195412.jpg 0.4991 0.6545 0.0855\n"
     ]
    }
   ],
   "source": [
    "import cv2\n",
    "import pandas as pd\n",
    "import matplotlib.pyplot as plt\n",
    "from ThresholdModel import iou_measure\n",
    "\n",
    "accuracy = {\n",
    "    'name': [],\n",
    "    'DiaChua': [],\n",
    "    'VungVoKhuan': [],\n",
    "    'GiayKhangSinh': []\n",
    "}\n",
    "\n",
    "for image_name, annotation_name in zip(images_name_test, annotations_name_test):\n",
    "    image_test = cv2.imread(os.path.join(images_path, image_name))\n",
    "    annotation_test = cv2.imread(os.path.join(annotations_path, annotation_name))\n",
    "    \n",
    "    mask_DiaChua = model.predict(image_test, 'DiaChua')\n",
    "    mask_VungVoKhuan = model.predict(image_test, 'VungVoKhuan')\n",
    "    mask_GiayKhangSinh = model.predict(image_test, 'GiayKhangSinh')\n",
    "    \n",
    "    accuracy['name'].append(image_name)\n",
    "    accuracy['DiaChua'].append(iou_measure(mask_DiaChua, model.get_mask(annotation_test, 'DiaChua')))\n",
    "    accuracy['VungVoKhuan'].append(iou_measure(mask_VungVoKhuan, model.get_mask(annotation_test, 'VungVoKhuan')))\n",
    "    accuracy['GiayKhangSinh'].append(iou_measure(mask_GiayKhangSinh, model.get_mask(annotation_test, 'GiayKhangSinh')))\n",
    "\n",
    "    print('%s %.4f %.4f %.4f' % (accuracy['name'][-1], accuracy['DiaChua'][-1], accuracy['VungVoKhuan'][-1], accuracy['GiayKhangSinh'][-1]))\n",
    "\n",
    "output = pd.DataFrame(accuracy)\n",
    "output.to_csv('output.csv')"
   ]
  },
  {
   "cell_type": "code",
   "execution_count": 25,
   "metadata": {},
   "outputs": [
    {
     "data": {
      "text/html": [
       "<div>\n",
       "<style scoped>\n",
       "    .dataframe tbody tr th:only-of-type {\n",
       "        vertical-align: middle;\n",
       "    }\n",
       "\n",
       "    .dataframe tbody tr th {\n",
       "        vertical-align: top;\n",
       "    }\n",
       "\n",
       "    .dataframe thead th {\n",
       "        text-align: right;\n",
       "    }\n",
       "</style>\n",
       "<table border=\"1\" class=\"dataframe\">\n",
       "  <thead>\n",
       "    <tr style=\"text-align: right;\">\n",
       "      <th></th>\n",
       "      <th>name</th>\n",
       "      <th>DiaChua</th>\n",
       "      <th>VungVoKhuan</th>\n",
       "      <th>GiayKhangSinh</th>\n",
       "    </tr>\n",
       "  </thead>\n",
       "  <tbody>\n",
       "    <tr>\n",
       "      <th>0</th>\n",
       "      <td>879_IMG_20180911_195128.jpg</td>\n",
       "      <td>0.342546</td>\n",
       "      <td>0.205640</td>\n",
       "      <td>0.004145</td>\n",
       "    </tr>\n",
       "    <tr>\n",
       "      <th>1</th>\n",
       "      <td>873_IMG_20180911_194441.jpg</td>\n",
       "      <td>0.443808</td>\n",
       "      <td>0.647355</td>\n",
       "      <td>0.111040</td>\n",
       "    </tr>\n",
       "    <tr>\n",
       "      <th>2</th>\n",
       "      <td>870_IMG_20180911_194225.jpg</td>\n",
       "      <td>0.591059</td>\n",
       "      <td>0.517454</td>\n",
       "      <td>0.102696</td>\n",
       "    </tr>\n",
       "    <tr>\n",
       "      <th>3</th>\n",
       "      <td>880_IMG_20180911_195205.jpg</td>\n",
       "      <td>0.341821</td>\n",
       "      <td>0.413190</td>\n",
       "      <td>0.034984</td>\n",
       "    </tr>\n",
       "    <tr>\n",
       "      <th>4</th>\n",
       "      <td>868_IMG_20180911_194036.jpg</td>\n",
       "      <td>0.248475</td>\n",
       "      <td>0.788308</td>\n",
       "      <td>0.058259</td>\n",
       "    </tr>\n",
       "    <tr>\n",
       "      <th>5</th>\n",
       "      <td>nadia_box5_75c28c60-77e5-4236-9a1a-828f506caf1...</td>\n",
       "      <td>0.712071</td>\n",
       "      <td>0.205207</td>\n",
       "      <td>0.046006</td>\n",
       "    </tr>\n",
       "    <tr>\n",
       "      <th>6</th>\n",
       "      <td>877_IMG_20180911_194847.jpg</td>\n",
       "      <td>0.349340</td>\n",
       "      <td>0.447334</td>\n",
       "      <td>0.020887</td>\n",
       "    </tr>\n",
       "    <tr>\n",
       "      <th>7</th>\n",
       "      <td>hadeel_box6_3620256a-d309-44ad-9dd7-f649ecf9a8...</td>\n",
       "      <td>0.133761</td>\n",
       "      <td>0.347276</td>\n",
       "      <td>0.009725</td>\n",
       "    </tr>\n",
       "    <tr>\n",
       "      <th>8</th>\n",
       "      <td>882_IMG_20180911_195412.jpg</td>\n",
       "      <td>0.499081</td>\n",
       "      <td>0.654529</td>\n",
       "      <td>0.085512</td>\n",
       "    </tr>\n",
       "  </tbody>\n",
       "</table>\n",
       "</div>"
      ],
      "text/plain": [
       "                                                name   DiaChua  VungVoKhuan  \\\n",
       "0                        879_IMG_20180911_195128.jpg  0.342546     0.205640   \n",
       "1                        873_IMG_20180911_194441.jpg  0.443808     0.647355   \n",
       "2                        870_IMG_20180911_194225.jpg  0.591059     0.517454   \n",
       "3                        880_IMG_20180911_195205.jpg  0.341821     0.413190   \n",
       "4                        868_IMG_20180911_194036.jpg  0.248475     0.788308   \n",
       "5  nadia_box5_75c28c60-77e5-4236-9a1a-828f506caf1...  0.712071     0.205207   \n",
       "6                        877_IMG_20180911_194847.jpg  0.349340     0.447334   \n",
       "7  hadeel_box6_3620256a-d309-44ad-9dd7-f649ecf9a8...  0.133761     0.347276   \n",
       "8                        882_IMG_20180911_195412.jpg  0.499081     0.654529   \n",
       "\n",
       "   GiayKhangSinh  \n",
       "0       0.004145  \n",
       "1       0.111040  \n",
       "2       0.102696  \n",
       "3       0.034984  \n",
       "4       0.058259  \n",
       "5       0.046006  \n",
       "6       0.020887  \n",
       "7       0.009725  \n",
       "8       0.085512  "
      ]
     },
     "execution_count": 25,
     "metadata": {},
     "output_type": "execute_result"
    }
   ],
   "source": [
    "output"
   ]
  }
 ],
 "metadata": {
  "kernelspec": {
   "display_name": "base",
   "language": "python",
   "name": "python3"
  },
  "language_info": {
   "codemirror_mode": {
    "name": "ipython",
    "version": 3
   },
   "file_extension": ".py",
   "mimetype": "text/x-python",
   "name": "python",
   "nbconvert_exporter": "python",
   "pygments_lexer": "ipython3",
   "version": "3.11.5"
  }
 },
 "nbformat": 4,
 "nbformat_minor": 2
}
